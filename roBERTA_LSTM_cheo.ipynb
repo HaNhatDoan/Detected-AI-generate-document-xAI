{
 "cells": [
  {
   "cell_type": "code",
   "execution_count": 1,
   "id": "3efd65a4",
   "metadata": {},
   "outputs": [
    {
     "name": "stderr",
     "output_type": "stream",
     "text": [
      "c:\\Users\\DELL\\miniconda3\\Lib\\site-packages\\tqdm\\auto.py:21: TqdmWarning: IProgress not found. Please update jupyter and ipywidgets. See https://ipywidgets.readthedocs.io/en/stable/user_install.html\n",
      "  from .autonotebook import tqdm as notebook_tqdm\n"
     ]
    }
   ],
   "source": [
    "import pandas as pd\n",
    "import torch\n",
    "import torch.nn as nn\n",
    "import torch.optim as optim\n",
    "from torch.utils.data import Dataset, DataLoader\n",
    "from transformers import RobertaTokenizer, RobertaModel\n",
    "from sklearn.model_selection import StratifiedKFold # Sử dụng StratifiedKFold\n",
    "from sklearn.metrics import accuracy_score, precision_score, recall_score, f1_score\n",
    "from tqdm import tqdm\n",
    "import numpy as np # Để tính trung bình các độ đo"
   ]
  },
  {
   "cell_type": "code",
   "execution_count": 2,
   "id": "aa577348",
   "metadata": {},
   "outputs": [],
   "source": [
    "# Đọc dữ liệu từ 4 file CHEAT dataset\n",
    "file_paths = {\n",
    "    \"init\": \"dataset/CHEAT-main/data/ieee-init.xlsx\",\n",
    "    \"generation\": \"dataset/CHEAT-main/data/ieee-chatgpt-generation.xlsx\",\n",
    "    \"polish\": \"dataset/CHEAT-main/data/ieee-chatgpt-polish.xlsx\",\n",
    "    \"fusion\": \"dataset/CHEAT-main/data/ieee-chatgpt-fusion.xlsx\"\n",
    "}"
   ]
  },
  {
   "cell_type": "code",
   "execution_count": 3,
   "id": "9d196738",
   "metadata": {},
   "outputs": [],
   "source": [
    "dataframes = []\n",
    "for label, file_path in enumerate(file_paths.values()):\n",
    "    df = pd.read_excel(file_path)\n",
    "    df[\"label\"] = label  # Thêm cột nhãn\n",
    "    dataframes.append(df)\n",
    "# Gộp toàn bộ dataset\n",
    "df = pd.concat(dataframes, ignore_index=True)\n",
    "df = df[['abstract', 'label']].dropna()  # Xóa dòng thiếu dữ liệu\n",
    "\n",
    "# Chuẩn bị dữ liệu và nhãn\n",
    "texts = df[\"abstract\"].tolist()\n",
    "labels = df[\"label\"].tolist()\n",
    "\n",
    "tokenizer = RobertaTokenizer.from_pretrained(\"roberta-base\")"
   ]
  },
  {
   "cell_type": "code",
   "execution_count": 4,
   "id": "b4855da4",
   "metadata": {},
   "outputs": [],
   "source": [
    "def tokenize_texts(texts, tokenizer, max_length=128):\n",
    "    return tokenizer(\n",
    "        texts,\n",
    "        padding=True,\n",
    "        truncation=True,\n",
    "        max_length=max_length,\n",
    "        return_tensors=\"pt\"\n",
    "    )\n",
    "# Tokenize toàn bộ dữ liệu\n",
    "encodings = tokenize_texts(texts, tokenizer)"
   ]
  },
  {
   "cell_type": "code",
   "execution_count": 5,
   "id": "522009ce",
   "metadata": {},
   "outputs": [],
   "source": [
    "class TextDataset(Dataset):\n",
    "    def __init__(self, encodings, labels):\n",
    "        self.encodings = encodings\n",
    "        self.labels = torch.tensor(labels, dtype=torch.long)\n",
    "\n",
    "    def __len__(self):\n",
    "        return len(self.labels)\n",
    "\n",
    "    def __getitem__(self, idx):\n",
    "        item = {key: val[idx] for key, val in self.encodings.items()}\n",
    "        item[\"labels\"] = self.labels[idx]\n",
    "        return item\n",
    "dataset = TextDataset(encodings, labels)"
   ]
  },
  {
   "cell_type": "code",
   "execution_count": 6,
   "id": "b7b431db",
   "metadata": {},
   "outputs": [],
   "source": [
    "# Khởi tạo mô hình\n",
    "class RoBERTa_LSTM(nn.Module):\n",
    "    def __init__(self, roberta_model_name=\"roberta-base\", lstm_hidden_size=128, num_labels=4):\n",
    "        super(RoBERTa_LSTM, self).__init__()\n",
    "        self.roberta = RobertaModel.from_pretrained(roberta_model_name)  # Load RoBERTa\n",
    "        self.lstm = nn.LSTM(input_size=768, hidden_size=lstm_hidden_size, batch_first=True, bidirectional=True)\n",
    "        self.fc = nn.Linear(lstm_hidden_size * 2, num_labels)  # 2 * hidden_size vì LSTM là bidirectional\n",
    "        self.dropout = nn.Dropout(0.3)\n",
    "\n",
    "    def forward(self, input_ids, attention_mask):\n",
    "        roberta_output = self.roberta(input_ids=input_ids, attention_mask=attention_mask)\n",
    "        lstm_input = roberta_output.last_hidden_state  # Lấy output từ RoBERTa\n",
    "        lstm_output, _ = self.lstm(lstm_input)\n",
    "        lstm_output = self.dropout(lstm_output[:, -1, :])  # Lấy output cuối của LSTM\n",
    "        output = self.fc(lstm_output)\n",
    "        return output"
   ]
  },
  {
   "cell_type": "code",
   "execution_count": 7,
   "id": "775a159a",
   "metadata": {},
   "outputs": [
    {
     "name": "stdout",
     "output_type": "stream",
     "text": [
      "Đang sử dụng: cuda\n"
     ]
    },
    {
     "name": "stderr",
     "output_type": "stream",
     "text": [
      "Some weights of RobertaModel were not initialized from the model checkpoint at roberta-base and are newly initialized: ['roberta.pooler.dense.bias', 'roberta.pooler.dense.weight']\n",
      "You should probably TRAIN this model on a down-stream task to be able to use it for predictions and inference.\n"
     ]
    }
   ],
   "source": [
    "device = torch.device(\"cuda\" if torch.cuda.is_available() else \"cpu\")\n",
    "print(\"Đang sử dụng:\", device)\n",
    "model = RoBERTa_LSTM().to(device)\n",
    "criterion = nn.CrossEntropyLoss()\n",
    "optimizer = optim.AdamW(model.parameters(), lr=2e-5)"
   ]
  },
  {
   "cell_type": "code",
   "execution_count": 8,
   "id": "4e33d6fb",
   "metadata": {},
   "outputs": [],
   "source": [
    "def train_epoch(model, dataloader, criterion, optimizer, device, epoch, num_epochs):\n",
    "    model.train()\n",
    "    total_loss = 0\n",
    "    progress_bar = tqdm(dataloader, desc=f\"Epoch {epoch+1}/{num_epochs} [Train]\")\n",
    "    for batch in progress_bar:\n",
    "        optimizer.zero_grad()\n",
    "        input_ids = batch[\"input_ids\"].to(device)\n",
    "        attention_mask = batch[\"attention_mask\"].to(device)\n",
    "        labels = batch[\"labels\"].to(device)\n",
    "        outputs = model(input_ids, attention_mask)\n",
    "        loss = criterion(outputs, labels)\n",
    "        loss.backward()\n",
    "        optimizer.step()\n",
    "        total_loss += loss.item()\n",
    "        progress_bar.set_postfix(loss=loss.item())\n",
    "    return total_loss / len(dataloader)"
   ]
  },
  {
   "cell_type": "code",
   "execution_count": 9,
   "id": "7a1672d8",
   "metadata": {},
   "outputs": [],
   "source": [
    "\n",
    "def evaluate_epoch(model, dataloader, criterion, device, epoch, num_epochs):\n",
    "    model.eval()\n",
    "    total_loss = 0\n",
    "    all_preds, all_labels = [], []\n",
    "    progress_bar = tqdm(dataloader, desc=f\"Epoch {epoch+1}/{num_epochs} [Eval]\")\n",
    "    with torch.no_grad():\n",
    "        for batch in progress_bar:\n",
    "            input_ids = batch[\"input_ids\"].to(device)\n",
    "            attention_mask = batch[\"attention_mask\"].to(device)\n",
    "            labels = batch[\"labels\"].to(device)\n",
    "            outputs = model(input_ids, attention_mask)\n",
    "            loss = criterion(outputs, labels)\n",
    "            total_loss += loss.item()\n",
    "            _, predicted = torch.max(outputs, 1)\n",
    "            all_preds.extend(predicted.cpu().numpy())\n",
    "            all_labels.extend(labels.cpu().numpy())\n",
    "    return total_loss / len(dataloader), all_labels, all_preds"
   ]
  },
  {
   "cell_type": "code",
   "execution_count": 10,
   "id": "9e187dbe",
   "metadata": {},
   "outputs": [],
   "source": [
    "# Thực hiện kiểm tra chéo\n",
    "num_folds = 5 # Số fold\n",
    "skf = StratifiedKFold(n_splits=num_folds, shuffle=True, random_state=42) # Khởi tạo StratifiedKFold\n",
    "all_fold_metrics = {\n",
    "    \"accuracy\": [],\n",
    "    \"precision\": [],\n",
    "    \"recall\": [],\n",
    "    \"f1\": [],\n",
    "}"
   ]
  },
  {
   "cell_type": "code",
   "execution_count": 11,
   "id": "560db92a",
   "metadata": {},
   "outputs": [
    {
     "name": "stdout",
     "output_type": "stream",
     "text": [
      "Fold 1/5\n"
     ]
    },
    {
     "name": "stderr",
     "output_type": "stream",
     "text": [
      "Epoch 1/3 [Train]: 100%|██████████| 2535/2535 [09:13<00:00,  4.58it/s, loss=0.786] \n",
      "Epoch 1/3 [Eval]: 100%|██████████| 634/634 [00:37<00:00, 16.86it/s]\n"
     ]
    },
    {
     "name": "stdout",
     "output_type": "stream",
     "text": [
      "Epoch 1: Train Loss = 0.4600, Val Loss = 0.4142\n"
     ]
    },
    {
     "name": "stderr",
     "output_type": "stream",
     "text": [
      "Epoch 2/3 [Train]: 100%|██████████| 2535/2535 [09:14<00:00,  4.57it/s, loss=0.145] \n",
      "Epoch 2/3 [Eval]: 100%|██████████| 634/634 [00:34<00:00, 18.16it/s]\n"
     ]
    },
    {
     "name": "stdout",
     "output_type": "stream",
     "text": [
      "Epoch 2: Train Loss = 0.3018, Val Loss = 0.3693\n"
     ]
    },
    {
     "name": "stderr",
     "output_type": "stream",
     "text": [
      "Epoch 3/3 [Train]: 100%|██████████| 2535/2535 [08:54<00:00,  4.74it/s, loss=0.169]  \n",
      "Epoch 3/3 [Eval]: 100%|██████████| 634/634 [00:34<00:00, 18.14it/s]\n"
     ]
    },
    {
     "name": "stdout",
     "output_type": "stream",
     "text": [
      "Epoch 3: Train Loss = 0.2368, Val Loss = 0.4127\n",
      "Fold 1 Metrics:\n",
      "Accuracy: 0.8639, Precision: 0.8559, Recall: 0.8639, F1-score: 0.8573\n",
      "Fold 2/5\n"
     ]
    },
    {
     "name": "stderr",
     "output_type": "stream",
     "text": [
      "Epoch 1/3 [Train]: 100%|██████████| 2535/2535 [08:57<00:00,  4.72it/s, loss=0.223]  \n",
      "Epoch 1/3 [Eval]: 100%|██████████| 634/634 [00:35<00:00, 17.81it/s]\n"
     ]
    },
    {
     "name": "stdout",
     "output_type": "stream",
     "text": [
      "Epoch 1: Train Loss = 0.2247, Val Loss = 0.4056\n"
     ]
    },
    {
     "name": "stderr",
     "output_type": "stream",
     "text": [
      "Epoch 2/3 [Train]: 100%|██████████| 2535/2535 [09:02<00:00,  4.67it/s, loss=0.232]  \n",
      "Epoch 2/3 [Eval]: 100%|██████████| 634/634 [00:35<00:00, 17.76it/s]\n"
     ]
    },
    {
     "name": "stdout",
     "output_type": "stream",
     "text": [
      "Epoch 2: Train Loss = 0.1717, Val Loss = 0.3047\n"
     ]
    },
    {
     "name": "stderr",
     "output_type": "stream",
     "text": [
      "Epoch 3/3 [Train]: 100%|██████████| 2535/2535 [09:01<00:00,  4.68it/s, loss=0.0664] \n",
      "Epoch 3/3 [Eval]: 100%|██████████| 634/634 [00:35<00:00, 17.80it/s]\n"
     ]
    },
    {
     "name": "stdout",
     "output_type": "stream",
     "text": [
      "Epoch 3: Train Loss = 0.1453, Val Loss = 0.5234\n",
      "Fold 2 Metrics:\n",
      "Accuracy: 0.8391, Precision: 0.8603, Recall: 0.8391, F1-score: 0.8415\n",
      "Fold 3/5\n"
     ]
    },
    {
     "name": "stderr",
     "output_type": "stream",
     "text": [
      "Epoch 1/3 [Train]: 100%|██████████| 2535/2535 [09:02<00:00,  4.68it/s, loss=0.314]  \n",
      "Epoch 1/3 [Eval]: 100%|██████████| 634/634 [00:35<00:00, 17.85it/s]\n"
     ]
    },
    {
     "name": "stdout",
     "output_type": "stream",
     "text": [
      "Epoch 1: Train Loss = 0.1458, Val Loss = 0.2350\n"
     ]
    },
    {
     "name": "stderr",
     "output_type": "stream",
     "text": [
      "Epoch 2/3 [Train]: 100%|██████████| 2535/2535 [09:00<00:00,  4.69it/s, loss=0.129]  \n",
      "Epoch 2/3 [Eval]: 100%|██████████| 634/634 [00:35<00:00, 17.92it/s]\n"
     ]
    },
    {
     "name": "stdout",
     "output_type": "stream",
     "text": [
      "Epoch 2: Train Loss = 0.1206, Val Loss = 0.2276\n"
     ]
    },
    {
     "name": "stderr",
     "output_type": "stream",
     "text": [
      "Epoch 3/3 [Train]: 100%|██████████| 2535/2535 [09:01<00:00,  4.69it/s, loss=0.186]  \n",
      "Epoch 3/3 [Eval]: 100%|██████████| 634/634 [00:35<00:00, 17.73it/s]\n"
     ]
    },
    {
     "name": "stdout",
     "output_type": "stream",
     "text": [
      "Epoch 3: Train Loss = 0.1073, Val Loss = 0.2956\n",
      "Fold 3 Metrics:\n",
      "Accuracy: 0.9070, Precision: 0.9093, Recall: 0.9070, F1-score: 0.9064\n",
      "Fold 4/5\n"
     ]
    },
    {
     "name": "stderr",
     "output_type": "stream",
     "text": [
      "Epoch 1/3 [Train]: 100%|██████████| 2535/2535 [08:56<00:00,  4.73it/s, loss=0.021]  \n",
      "Epoch 1/3 [Eval]: 100%|██████████| 634/634 [00:34<00:00, 18.17it/s]\n"
     ]
    },
    {
     "name": "stdout",
     "output_type": "stream",
     "text": [
      "Epoch 1: Train Loss = 0.1144, Val Loss = 0.1688\n"
     ]
    },
    {
     "name": "stderr",
     "output_type": "stream",
     "text": [
      "Epoch 2/3 [Train]: 100%|██████████| 2535/2535 [08:57<00:00,  4.72it/s, loss=0.0114] \n",
      "Epoch 2/3 [Eval]: 100%|██████████| 634/634 [00:35<00:00, 18.07it/s]\n"
     ]
    },
    {
     "name": "stdout",
     "output_type": "stream",
     "text": [
      "Epoch 2: Train Loss = 0.0946, Val Loss = 0.1237\n"
     ]
    },
    {
     "name": "stderr",
     "output_type": "stream",
     "text": [
      "Epoch 3/3 [Train]: 100%|██████████| 2535/2535 [08:57<00:00,  4.72it/s, loss=0.0568] \n",
      "Epoch 3/3 [Eval]: 100%|██████████| 634/634 [00:34<00:00, 18.13it/s]\n"
     ]
    },
    {
     "name": "stdout",
     "output_type": "stream",
     "text": [
      "Epoch 3: Train Loss = 0.0809, Val Loss = 0.2781\n",
      "Fold 4 Metrics:\n",
      "Accuracy: 0.9131, Precision: 0.9260, Recall: 0.9131, F1-score: 0.9156\n",
      "Fold 5/5\n"
     ]
    },
    {
     "name": "stderr",
     "output_type": "stream",
     "text": [
      "Epoch 1/3 [Train]: 100%|██████████| 2535/2535 [08:55<00:00,  4.74it/s, loss=0.0167] \n",
      "Epoch 1/3 [Eval]: 100%|██████████| 634/634 [00:34<00:00, 18.19it/s]\n"
     ]
    },
    {
     "name": "stdout",
     "output_type": "stream",
     "text": [
      "Epoch 1: Train Loss = 0.0905, Val Loss = 0.1272\n"
     ]
    },
    {
     "name": "stderr",
     "output_type": "stream",
     "text": [
      "Epoch 2/3 [Train]: 100%|██████████| 2535/2535 [08:57<00:00,  4.72it/s, loss=0.209]   \n",
      "Epoch 2/3 [Eval]: 100%|██████████| 634/634 [00:35<00:00, 17.93it/s]\n"
     ]
    },
    {
     "name": "stdout",
     "output_type": "stream",
     "text": [
      "Epoch 2: Train Loss = 0.0746, Val Loss = 0.3896\n"
     ]
    },
    {
     "name": "stderr",
     "output_type": "stream",
     "text": [
      "Epoch 3/3 [Train]: 100%|██████████| 2535/2535 [08:55<00:00,  4.74it/s, loss=0.0826]  \n",
      "Epoch 3/3 [Eval]: 100%|██████████| 634/634 [00:34<00:00, 18.18it/s]"
     ]
    },
    {
     "name": "stdout",
     "output_type": "stream",
     "text": [
      "Epoch 3: Train Loss = 0.0689, Val Loss = 0.2154\n",
      "Fold 5 Metrics:\n",
      "Accuracy: 0.9381, Precision: 0.9418, Recall: 0.9381, F1-score: 0.9386\n"
     ]
    },
    {
     "name": "stderr",
     "output_type": "stream",
     "text": [
      "\n"
     ]
    }
   ],
   "source": [
    "for fold, (train_index, val_index) in enumerate(skf.split(np.zeros(len(labels)), labels)): # Chia dữ liệu theo fold\n",
    "    print(f\"Fold {fold + 1}/{num_folds}\")\n",
    "    train_dataset = torch.utils.data.Subset(dataset, train_index) # Tạo tập train\n",
    "    val_dataset = torch.utils.data.Subset(dataset, val_index) # Tạo tập val\n",
    "    train_loader = DataLoader(train_dataset, batch_size=16, shuffle=True) # Tạo dataloader\n",
    "    val_loader = DataLoader(val_dataset, batch_size=16, shuffle=False)\n",
    "\n",
    "    # Huấn luyện mô hình trên fold hiện tại\n",
    "    num_epochs = 3\n",
    "    for epoch in range(num_epochs):\n",
    "        train_loss = train_epoch(model, train_loader, criterion, optimizer, device, epoch, num_epochs)\n",
    "        val_loss, val_labels, val_preds = evaluate_epoch(model, val_loader, criterion, device, epoch, num_epochs)\n",
    "        print(f\"Epoch {epoch+1}: Train Loss = {train_loss:.4f}, Val Loss = {val_loss:.4f}\")\n",
    "\n",
    "    # Đánh giá mô hình trên fold hiện tại\n",
    "    accuracy = accuracy_score(val_labels, val_preds)\n",
    "    precision = precision_score(val_labels, val_preds, average=\"weighted\")\n",
    "    recall = recall_score(val_labels, val_preds, average=\"weighted\")\n",
    "    f1 = f1_score(val_labels, val_preds, average=\"weighted\")\n",
    "\n",
    "    print(f\"Fold {fold + 1} Metrics:\")\n",
    "    print(f\"Accuracy: {accuracy:.4f}, Precision: {precision:.4f}, Recall: {recall:.4f}, F1-score: {f1:.4f}\")\n",
    "\n",
    "    all_fold_metrics[\"accuracy\"].append(accuracy)\n",
    "    all_fold_metrics[\"precision\"].append(precision)\n",
    "    all_fold_metrics[\"recall\"].append(recall)\n",
    "    all_fold_metrics[\"f1\"].append(f1)"
   ]
  },
  {
   "cell_type": "code",
   "execution_count": 12,
   "id": "1d5bc820",
   "metadata": {},
   "outputs": [
    {
     "name": "stdout",
     "output_type": "stream",
     "text": [
      "✅✅✅ Average Metrics Over All Folds:\n",
      "Accuracy: 0.8922\n",
      "Precision: 0.8987\n",
      "Recall: 0.8922\n",
      "F1-score: 0.8919\n"
     ]
    }
   ],
   "source": [
    "# Tính trung bình các độ đo trên các fold\n",
    "print(\"✅✅✅ Average Metrics Over All Folds:\")\n",
    "print(f\"Accuracy: {np.mean(all_fold_metrics['accuracy']):.4f}\")\n",
    "print(f\"Precision: {np.mean(all_fold_metrics['precision']):.4f}\")\n",
    "print(f\"Recall: {np.mean(all_fold_metrics['recall']):.4f}\")\n",
    "print(f\"F1-score: {np.mean(all_fold_metrics['f1']):.4f}\")"
   ]
  },
  {
   "cell_type": "code",
   "execution_count": 13,
   "id": "c9654b26",
   "metadata": {},
   "outputs": [
    {
     "name": "stdout",
     "output_type": "stream",
     "text": [
      "✅ Mô hình đã được lưu tại roberta_lstm_model_cheo.pth\n"
     ]
    }
   ],
   "source": [
    "model_path = \"roberta_lstm_model_cheo.pth\"  # Chọn đường dẫn và tên file để lưu\n",
    "torch.save(model.state_dict(), model_path) # Lưu state_dict (các tham số học được) của mô hình\n",
    "print(f\"✅ Mô hình đã được lưu tại {model_path}\")"
   ]
  }
 ],
 "metadata": {
  "kernelspec": {
   "display_name": "base",
   "language": "python",
   "name": "python3"
  },
  "language_info": {
   "codemirror_mode": {
    "name": "ipython",
    "version": 3
   },
   "file_extension": ".py",
   "mimetype": "text/x-python",
   "name": "python",
   "nbconvert_exporter": "python",
   "pygments_lexer": "ipython3",
   "version": "3.12.3"
  }
 },
 "nbformat": 4,
 "nbformat_minor": 5
}
